{
 "cells": [
  {
   "cell_type": "code",
   "execution_count": 1,
   "metadata": {},
   "outputs": [],
   "source": [
    "import os\n",
    "import os.path\n",
    "#import re\n",
    "import sys\n",
    "sys.path.append(\"src\")\n",
    "\n",
    "import numpy as np\n",
    "import pandas as pd\n",
    "pd.set_option('display.max_rows', 10)\n",
    "pd.set_option('display.max_columns', 1000)\n",
    "import datetime\n",
    "import matplotlib.pylab as plt\n",
    "plt.rcParams['font.sans-serif']=['SimHei'] #用来正常显示中文标签\n",
    "%matplotlib inline\n",
    "import seaborn as sns\n",
    "sns.set_style('whitegrid')\n",
    "\n",
    "from Talib_calc import *\n",
    "from Util import *\n",
    "from Classifier_PonderDNC_BasicLSTM_L3 import *\n",
    "\n",
    "import time\n",
    "import copy"
   ]
  },
  {
   "cell_type": "markdown",
   "metadata": {},
   "source": [
    "#### 训练"
   ]
  },
  {
   "cell_type": "code",
   "execution_count": 2,
   "metadata": {
    "scrolled": true
   },
   "outputs": [
    {
     "name": "stdout",
     "output_type": "stream",
     "text": [
      "WARNING:tensorflow:The `skip_connections` argument will be deprecated. Please use snt.SkipConnectionCore instead.\n"
     ]
    },
    {
     "name": "stderr",
     "output_type": "stream",
     "text": [
      "/usr/local/lib/python3.5/dist-packages/tensorflow/python/ops/gradients_impl.py:95: UserWarning: Converting sparse IndexedSlices to a dense Tensor of unknown shape. This may consume a large amount of memory.\n",
      "  \"Converting sparse IndexedSlices to a dense Tensor of unknown shape. \"\n"
     ]
    },
    {
     "name": "stdout",
     "output_type": "stream",
     "text": [
      "0   loss-- 1.13862   acc-- 0.345185   pondering_cost-- 0.0270233   rnn_cost-- 1.1116   final_iteration 2.39213\n",
      "Optimization Finished!\n",
      "INFO:tensorflow:No assets to save.\n",
      "INFO:tensorflow:No assets to write.\n",
      "INFO:tensorflow:SavedModel written to: b'model/000009.XSHE.csv/1/saved_model.pb'\n"
     ]
    }
   ],
   "source": [
    "for parent, dirnames, filenames in os.walk('data'):\n",
    "    for filename in filenames:\n",
    "        \n",
    "        path = os.path.join(parent,filename)\n",
    "        \n",
    "        if path.find('.csv') != -1:\n",
    "            #读取数据\n",
    "            inputs,targets, gather_list = load_data(path)\n",
    "            \n",
    "            #print(inputs.shape, targets.shape, gather_list.shape)\n",
    "            tf.reset_default_graph()\n",
    "            #训练模型\n",
    "            op1 = Classifier_PonderDNC_BasicLSTM_L3(\n",
    "                inputs= inputs, \n",
    "                targets= targets, \n",
    "                gather_list= gather_list, \n",
    "                hidden_size= 50, \n",
    "                memory_size= 50, \n",
    "                pondering_coefficient= 1e-2, \n",
    "                learning_rate= 1e-2)\n",
    "            \n",
    "            op1.fit(training_iters = 1,\n",
    "                display_step = 10,\n",
    "                save_path = 'model/' + filename +'/ResidualPonderDNC.ckpt',\n",
    "                export_path = 'model/' + filename )\n",
    "            \n",
    "            if op1.remaining_iter == 0:\n",
    "                print('close')\n",
    "                op1.close()\n",
    "                \n"
   ]
  }
 ],
 "metadata": {
  "kernelspec": {
   "display_name": "Python 3",
   "language": "python",
   "name": "python3"
  },
  "language_info": {
   "codemirror_mode": {
    "name": "ipython",
    "version": 3
   },
   "file_extension": ".py",
   "mimetype": "text/x-python",
   "name": "python",
   "nbconvert_exporter": "python",
   "pygments_lexer": "ipython3",
   "version": "3.5.2"
  }
 },
 "nbformat": 4,
 "nbformat_minor": 2
}
