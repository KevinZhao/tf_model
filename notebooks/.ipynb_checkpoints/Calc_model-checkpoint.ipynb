{
 "cells": [
  {
   "cell_type": "code",
   "execution_count": 1,
   "metadata": {
    "collapsed": true
   },
   "outputs": [],
   "source": [
    "import os\n",
    "import os.path\n",
    "#import re\n",
    "import sys\n",
    "sys.path.append(\"src\")\n",
    "\n",
    "import numpy as np\n",
    "import pandas as pd\n",
    "pd.set_option('display.max_rows', 10)\n",
    "pd.set_option('display.max_columns', 1000)\n",
    "import datetime\n",
    "import matplotlib.pylab as plt\n",
    "plt.rcParams['font.sans-serif']=['SimHei'] #用来正常显示中文标签\n",
    "%matplotlib inline\n",
    "import seaborn as sns\n",
    "sns.set_style('whitegrid')\n",
    "\n",
    "from Talib_calc import *\n",
    "from Util import *\n",
    "from Classifier_PonderDNC_BasicLSTM_L3 import *\n",
    "\n",
    "import time\n",
    "import copy"
   ]
  },
  {
   "cell_type": "markdown",
   "metadata": {},
   "source": [
    "#### 训练"
   ]
  },
  {
   "cell_type": "code",
   "execution_count": 2,
   "metadata": {
    "scrolled": true
   },
   "outputs": [
    {
     "name": "stdout",
     "output_type": "stream",
     "text": [
      "WARNING:tensorflow:The `skip_connections` argument will be deprecated. Please use snt.SkipConnectionCore instead.\n"
     ]
    },
    {
     "name": "stderr",
     "output_type": "stream",
     "text": [
      "/usr/local/lib/python3.5/dist-packages/tensorflow/python/ops/gradients_impl.py:95: UserWarning: Converting sparse IndexedSlices to a dense Tensor of unknown shape. This may consume a large amount of memory.\n",
      "  \"Converting sparse IndexedSlices to a dense Tensor of unknown shape. \"\n"
     ]
    },
    {
     "name": "stdout",
     "output_type": "stream",
     "text": [
      "0   loss-- 1.13583   acc-- 0.354074   pondering_cost-- 0.0279215   rnn_cost-- 1.10791   final_iteration 2.5277\n",
      "Optimization Finished!\n",
      "b'model/000009.XSHE.csv/ResidualPonderDNC.ckpt/1'\n",
      "INFO:tensorflow:No assets to save.\n",
      "INFO:tensorflow:No assets to write.\n",
      "INFO:tensorflow:SavedModel written to: b'model/000009.XSHE.csv/ResidualPonderDNC.ckpt/1/saved_model.pb'\n",
      "WARNING:tensorflow:The `skip_connections` argument will be deprecated. Please use snt.SkipConnectionCore instead.\n",
      "0   loss-- 1.12338   acc-- 0.365926   pondering_cost-- 0.027126   rnn_cost-- 1.09626   final_iteration 2.40816\n",
      "Optimization Finished!\n",
      "b'model/000060.XSHE.csv/ResidualPonderDNC.ckpt/1'\n",
      "INFO:tensorflow:No assets to save.\n",
      "INFO:tensorflow:No assets to write.\n",
      "INFO:tensorflow:SavedModel written to: b'model/000060.XSHE.csv/ResidualPonderDNC.ckpt/1/saved_model.pb'\n",
      "WARNING:tensorflow:The `skip_connections` argument will be deprecated. Please use snt.SkipConnectionCore instead.\n",
      "0   loss-- 1.13624   acc-- 0.34963   pondering_cost-- 0.0288928   rnn_cost-- 1.10735   final_iteration 2.63703\n",
      "Optimization Finished!\n",
      "b'model/000063.XSHE.csv/ResidualPonderDNC.ckpt/1'\n",
      "INFO:tensorflow:No assets to save.\n",
      "INFO:tensorflow:No assets to write.\n",
      "INFO:tensorflow:SavedModel written to: b'model/000063.XSHE.csv/ResidualPonderDNC.ckpt/1/saved_model.pb'\n",
      "WARNING:tensorflow:The `skip_connections` argument will be deprecated. Please use snt.SkipConnectionCore instead.\n",
      "0   loss-- 1.1274   acc-- 0.357037   pondering_cost-- 0.0273714   rnn_cost-- 1.10003   final_iteration 2.43732\n",
      "Optimization Finished!\n",
      "b'model/000069.XSHE.csv/ResidualPonderDNC.ckpt/1'\n",
      "INFO:tensorflow:No assets to save.\n",
      "INFO:tensorflow:No assets to write.\n",
      "INFO:tensorflow:SavedModel written to: b'model/000069.XSHE.csv/ResidualPonderDNC.ckpt/1/saved_model.pb'\n",
      "WARNING:tensorflow:The `skip_connections` argument will be deprecated. Please use snt.SkipConnectionCore instead.\n",
      "0   loss-- 1.15148   acc-- 0.308148   pondering_cost-- 0.02739   rnn_cost-- 1.12409   final_iteration 2.43732\n",
      "Optimization Finished!\n",
      "b'model/000100.XSHE.csv/ResidualPonderDNC.ckpt/1'\n",
      "INFO:tensorflow:No assets to save.\n",
      "INFO:tensorflow:No assets to write.\n",
      "INFO:tensorflow:SavedModel written to: b'model/000100.XSHE.csv/ResidualPonderDNC.ckpt/1/saved_model.pb'\n",
      "WARNING:tensorflow:The `skip_connections` argument will be deprecated. Please use snt.SkipConnectionCore instead.\n",
      "0   loss-- 1.13129   acc-- 0.33037   pondering_cost-- 0.0279019   rnn_cost-- 1.10339   final_iteration 2.49854\n",
      "Optimization Finished!\n",
      "b'model/000156.XSHE.csv/ResidualPonderDNC.ckpt/1'\n",
      "INFO:tensorflow:No assets to save.\n",
      "INFO:tensorflow:No assets to write.\n",
      "INFO:tensorflow:SavedModel written to: b'model/000156.XSHE.csv/ResidualPonderDNC.ckpt/1/saved_model.pb'\n",
      "WARNING:tensorflow:The `skip_connections` argument will be deprecated. Please use snt.SkipConnectionCore instead.\n",
      "0   loss-- 1.12953   acc-- 0.357037   pondering_cost-- 0.0272788   rnn_cost-- 1.10225   final_iteration 2.43003\n",
      "Optimization Finished!\n",
      "b'model/000157.XSHE.csv/ResidualPonderDNC.ckpt/1'\n",
      "INFO:tensorflow:No assets to save.\n",
      "INFO:tensorflow:No assets to write.\n",
      "INFO:tensorflow:SavedModel written to: b'model/000157.XSHE.csv/ResidualPonderDNC.ckpt/1/saved_model.pb'\n",
      "WARNING:tensorflow:The `skip_connections` argument will be deprecated. Please use snt.SkipConnectionCore instead.\n",
      "0   loss-- 1.12772   acc-- 0.364179   pondering_cost-- 0.0279405   rnn_cost-- 1.09978   final_iteration 2.52312\n",
      "Optimization Finished!\n",
      "b'model/000166.XSHE.csv/ResidualPonderDNC.ckpt/1'\n",
      "INFO:tensorflow:No assets to save.\n",
      "INFO:tensorflow:No assets to write.\n",
      "INFO:tensorflow:SavedModel written to: b'model/000166.XSHE.csv/ResidualPonderDNC.ckpt/1/saved_model.pb'\n"
     ]
    }
   ],
   "source": [
    "for parent, dirnames, filenames in os.walk('data'):\n",
    "    for filename in filenames:\n",
    "        \n",
    "        path = os.path.join(parent,filename)\n",
    "        \n",
    "        if path.find('.csv') != -1:\n",
    "            #读取数据\n",
    "            inputs,targets, gather_list = load_data(path)\n",
    "            \n",
    "            #print(inputs.shape, targets.shape, gather_list.shape)\n",
    "            tf.reset_default_graph()\n",
    "            #训练模型\n",
    "            op1 = Classifier_PonderDNC_BasicLSTM_L3(\n",
    "                inputs= inputs, \n",
    "                targets= targets, \n",
    "                gather_list= gather_list, \n",
    "                hidden_size= 50, \n",
    "                memory_size= 50, \n",
    "                pondering_coefficient= 1e-2, \n",
    "                learning_rate= 1e-2)\n",
    "            \n",
    "            op1.fit(training_iters = 1,\n",
    "                display_step = 10,\n",
    "                save_path = 'model/' + filename +'/ResidualPonderDNC.ckpt',\n",
    "                export_path = 'model/' + filename )\n",
    "            \n",
    "            if op1.remaining_iter == 0:\n",
    "                print('close')\n",
    "                op1.close()\n",
    "                \n"
   ]
  }
 ],
 "metadata": {
  "kernelspec": {
   "display_name": "Python 3",
   "language": "python",
   "name": "python3"
  },
  "language_info": {
   "codemirror_mode": {
    "name": "ipython",
    "version": 3
   },
   "file_extension": ".py",
   "mimetype": "text/x-python",
   "name": "python",
   "nbconvert_exporter": "python",
   "pygments_lexer": "ipython3",
   "version": "3.5.2"
  }
 },
 "nbformat": 4,
 "nbformat_minor": 2
}
