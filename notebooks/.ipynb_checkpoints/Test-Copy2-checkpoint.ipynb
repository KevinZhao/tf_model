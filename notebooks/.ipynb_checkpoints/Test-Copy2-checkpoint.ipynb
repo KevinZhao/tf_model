{
 "cells": [
  {
   "cell_type": "code",
   "execution_count": 1,
   "metadata": {},
   "outputs": [
    {
     "name": "stderr",
     "output_type": "stream",
     "text": [
      "WARNING: better_exceptions will only inspect code from the command line\n",
      "         when using: `python -m better_exceptions'. Otherwise, only code\n",
      "         loaded from files will be inspected!\n"
     ]
    }
   ],
   "source": [
    "import os\n",
    "import os.path\n",
    "import re\n",
    "import sys\n",
    "sys.path.append(\"src\")\n",
    "\n",
    "import numpy as np\n",
    "import pandas as pd\n",
    "pd.set_option('display.max_rows', 10)\n",
    "pd.set_option('display.max_columns', 1000)\n",
    "import datetime\n",
    "import matplotlib.pylab as plt\n",
    "%matplotlib inline\n",
    "import seaborn as sns\n",
    "sns.set_style('whitegrid')\n",
    "import time\n",
    "import copy\n",
    "\n",
    "import rqalpha.api as rqa\n",
    "import tensorflow as tf\n",
    "from rqalpha import run_func\n",
    "from Talib_calc import *\n",
    "from predict import *\n",
    "from Classifier_PonderDNC_BasicLSTM_L3 import *\n",
    "\n",
    "def init(context):\n",
    "\n",
    "    context.stock_list = ['000001.XSHE', '000002.XSHE', '000008.XSHE', '000009.XSHE', '000060.XSHE']\n",
    "    context.BarSpan = 200\n",
    "    context.TransactionRate = '1d'\n",
    "    context.DataFields = ['datetime', 'open', 'close','high', 'low', 'volume']\n",
    "    context.DefineQuantity = 5 \n",
    "    context.func_get_factors = get_factors\n",
    "    "
   ]
  },
  {
   "cell_type": "code",
   "execution_count": 2,
   "metadata": {
    "collapsed": true
   },
   "outputs": [],
   "source": [
    "def handle_bar(context, bar_dict): \n",
    "    \n",
    "    for stock in context.stock_list:\n",
    "        print(stock)\n",
    "\n",
    "        # 获取合约报价\n",
    "        Quotes = rqa.history_bars(\n",
    "            order_book_id= stock, \n",
    "            bar_count= context.BarSpan, \n",
    "            frequency= context.TransactionRate,\n",
    "            fields= context.DataFields)\n",
    "        Quotes = pd.DataFrame(Quotes)\n",
    "\n",
    "        # 计算技术分析指标\n",
    "        tmp_factors = context.func_get_factors(\n",
    "            index= pd.to_datetime(Quotes['datetime']), \n",
    "            Open= Quotes['open'].values, \n",
    "            Close= Quotes['close'].values, \n",
    "            High= Quotes['high'].values, \n",
    "            Low= Quotes['low'].values, \n",
    "            Volume=Quotes['volume'].values,\n",
    "            drop=True)   \n",
    "        \n",
    "        inputs = np.expand_dims(np.array(tmp_factors), axis=1)  \n",
    "        \n",
    "        #inputs = inputs.astype(type('float', (float,), {}))\n",
    "        inputs = inputs.astype(numpy.float32)\n",
    "        na_float = na_int.astype(numpy.float32)\n",
    "\n",
    "        \n",
    "        #print(inputs)\n",
    "        #print(inputs_new)\n",
    "        #print(inputs_new[0][0][0].type())\n",
    "        \n",
    "        result = do_inference(inputs, stock)\n",
    "        \n",
    "        print(result)\n",
    "        \n",
    "        probability, classification = op.pred(inputs)\n",
    "\n",
    "        flag = classification[-1][0]\n",
    "        print(classification[-1], probability[-1])\n",
    "        \n",
    "        rqa.logger.info(str(flag))\n",
    "        #print (flag)\n",
    "    \n",
    "        # 绘制估计概率\n",
    "        #rqa.plot(\"估空概率\", probability[-1][0][0])\n",
    "        #rqa.plot(\"振荡概率\", probability[-1][0][1])\n",
    "        #rqa.plot(\"估多概率\", probability[-1][0][2])\n",
    "     \n",
    "        # 获取仓位\n",
    "        cur_position = context.portfolio.accounts['STOCK'].positions\n",
    "\n",
    "        # 卖出\n",
    "        if flag == 0:\n",
    "            #rqa.logger.info ('沽空')\n",
    "            rqa.order_target_percent(stock, 0)            \n",
    "            \n",
    "        # 买入\n",
    "        if flag == 2:\n",
    "            #rqa.logger.info ('沽多')\n",
    "            rqa.order_target_percent(stock, 0.5)      \n",
    "            \n",
    "        if flag == 1:\n",
    "            '''\n",
    "            rqa.logger.info ('振荡区间')\n",
    "            if tmp_sell_quantity > 0:\n",
    "                rqa.buy_close(contract, tmp_sell_quantity)\n",
    "                rqa.logger.info ('平空单')\n",
    "            if tmp_buy_quantity > 0:\n",
    "                rqa.sell_close(contract, tmp_buy_quantity)\n",
    "                rqa.logger.info ('平多单')\n",
    "            else:\n",
    "                rqa.logger.info ('空仓规避')\n",
    "            '''"
   ]
  },
  {
   "cell_type": "code",
   "execution_count": 3,
   "metadata": {},
   "outputs": [
    {
     "data": {
      "text/plain": [
       "\"\\nstart_date = '2016-01-01'\\nend_date = '2017-01-01'\\naccounts = {'stock':1e5}\\n\\nconfig = {\\n    'base':{'start_date':start_date, 'end_date':end_date, 'accounts':accounts},\\n    'extra':{'log_level':'info'},\\n    'mod':{'sys_analyser':{'enabled':True, 'plot':True}}\\n}\\n\\nresults = run_func(init=init, handle_bar=handle_bar, config=config)\\n\""
      ]
     },
     "execution_count": 3,
     "metadata": {},
     "output_type": "execute_result"
    }
   ],
   "source": [
    "'''\n",
    "start_date = '2016-01-01'\n",
    "end_date = '2017-01-01'\n",
    "accounts = {'stock':1e5}\n",
    "\n",
    "config = {\n",
    "    'base':{'start_date':start_date, 'end_date':end_date, 'accounts':accounts},\n",
    "    'extra':{'log_level':'info'},\n",
    "    'mod':{'sys_analyser':{'enabled':True, 'plot':True}}\n",
    "}\n",
    "\n",
    "results = run_func(init=init, handle_bar=handle_bar, config=config)\n",
    "'''"
   ]
  },
  {
   "cell_type": "code",
   "execution_count": 4,
   "metadata": {},
   "outputs": [
    {
     "name": "stdout",
     "output_type": "stream",
     "text": [
      "000001.XSHE\n",
      "docker.for.mac.localhost 8500\n"
     ]
    },
    {
     "ename": "AttributeError",
     "evalue": "'OutStream' object has no attribute 'buffer'",
     "output_type": "error",
     "traceback": [
      "\u001b[0;31m---------------------------------------------------------------------------\u001b[0m",
      "\u001b[0;31mAttributeError\u001b[0m                            Traceback (most recent call last)",
      "\u001b[0;32m/usr/local/lib/python3.5/dist-packages/rqalpha/core/strategy.py\u001b[0m in \u001b[0;36mhandle_bar\u001b[0;34m(self, event)\u001b[0m\n\u001b[1;32m     83\u001b[0m             \u001b[0;32mwith\u001b[0m \u001b[0mModifyExceptionFromType\u001b[0m\u001b[0;34m(\u001b[0m\u001b[0mEXC_TYPE\u001b[0m\u001b[0;34m.\u001b[0m\u001b[0mUSER_EXC\u001b[0m\u001b[0;34m)\u001b[0m\u001b[0;34m:\u001b[0m\u001b[0;34m\u001b[0m\u001b[0m\n\u001b[0;32m---> 84\u001b[0;31m                 \u001b[0mself\u001b[0m\u001b[0;34m.\u001b[0m\u001b[0m_handle_bar\u001b[0m\u001b[0;34m(\u001b[0m\u001b[0mself\u001b[0m\u001b[0;34m.\u001b[0m\u001b[0m_user_context\u001b[0m\u001b[0;34m,\u001b[0m \u001b[0mbar_dict\u001b[0m\u001b[0;34m)\u001b[0m\u001b[0;34m\u001b[0m\u001b[0m\n\u001b[0m\u001b[1;32m     85\u001b[0m \u001b[0;34m\u001b[0m\u001b[0m\n",
      "\u001b[0;32m<ipython-input-2-4e93f0a2aa35>\u001b[0m in \u001b[0;36mhandle_bar\u001b[0;34m(context, bar_dict)\u001b[0m\n\u001b[1;32m     32\u001b[0m \u001b[0;34m\u001b[0m\u001b[0m\n\u001b[0;32m---> 33\u001b[0;31m         \u001b[0mresult\u001b[0m \u001b[0;34m=\u001b[0m \u001b[0mdo_inference\u001b[0m\u001b[0;34m(\u001b[0m\u001b[0minputs\u001b[0m\u001b[0;34m,\u001b[0m \u001b[0mstock\u001b[0m\u001b[0;34m)\u001b[0m\u001b[0;34m\u001b[0m\u001b[0m\n\u001b[0m\u001b[1;32m     34\u001b[0m \u001b[0;34m\u001b[0m\u001b[0m\n",
      "\u001b[0;32m/notebooks/src/predict.py\u001b[0m in \u001b[0;36mdo_inference\u001b[0;34m(test_data_set, model_name)\u001b[0m\n\u001b[1;32m    127\u001b[0m     \u001b[0;31m#)\u001b[0m\u001b[0;34m\u001b[0m\u001b[0;34m\u001b[0m\u001b[0m\n\u001b[0;32m--> 128\u001b[0;31m     \u001b[0mprint\u001b[0m\u001b[0;34m(\u001b[0m\u001b[0mtest_data_set\u001b[0m\u001b[0;34m[\u001b[0m\u001b[0;36m0\u001b[0m\u001b[0;34m]\u001b[0m\u001b[0;34m[\u001b[0m\u001b[0;36m0\u001b[0m\u001b[0;34m]\u001b[0m\u001b[0;34m[\u001b[0m\u001b[0;36m0\u001b[0m\u001b[0;34m]\u001b[0m\u001b[0;34m.\u001b[0m\u001b[0mtype\u001b[0m\u001b[0;34m)\u001b[0m\u001b[0;34m\u001b[0m\u001b[0m\n\u001b[0m\u001b[1;32m    129\u001b[0m \u001b[0;34m\u001b[0m\u001b[0m\n",
      "\u001b[0;31mAttributeError\u001b[0m: 'float' object has no attribute 'type'",
      "\nDuring handling of the above exception, another exception occurred:\n",
      "\u001b[0;31mCustomException\u001b[0m                           Traceback (most recent call last)",
      "\u001b[0;32m/usr/local/lib/python3.5/dist-packages/rqalpha/main.py\u001b[0m in \u001b[0;36mrun\u001b[0;34m(config, source_code, user_funcs)\u001b[0m\n\u001b[1;32m    291\u001b[0m         \u001b[0;32mfrom\u001b[0m \u001b[0;34m.\u001b[0m\u001b[0mcore\u001b[0m\u001b[0;34m.\u001b[0m\u001b[0mexecutor\u001b[0m \u001b[0;32mimport\u001b[0m \u001b[0mExecutor\u001b[0m\u001b[0;34m\u001b[0m\u001b[0m\n\u001b[0;32m--> 292\u001b[0;31m         \u001b[0mExecutor\u001b[0m\u001b[0;34m(\u001b[0m\u001b[0menv\u001b[0m\u001b[0;34m)\u001b[0m\u001b[0;34m.\u001b[0m\u001b[0mrun\u001b[0m\u001b[0;34m(\u001b[0m\u001b[0mbar_dict\u001b[0m\u001b[0;34m)\u001b[0m\u001b[0;34m\u001b[0m\u001b[0m\n\u001b[0m\u001b[1;32m    293\u001b[0m \u001b[0;34m\u001b[0m\u001b[0m\n",
      "\u001b[0;32m/usr/local/lib/python3.5/dist-packages/rqalpha/core/executor.py\u001b[0m in \u001b[0;36mrun\u001b[0;34m(self, bar_dict)\u001b[0m\n\u001b[1;32m     64\u001b[0m                 \u001b[0mevent\u001b[0m\u001b[0;34m.\u001b[0m\u001b[0mbar_dict\u001b[0m \u001b[0;34m=\u001b[0m \u001b[0mbar_dict\u001b[0m\u001b[0;34m\u001b[0m\u001b[0m\n\u001b[0;32m---> 65\u001b[0;31m                 \u001b[0mevent_bus\u001b[0m\u001b[0;34m.\u001b[0m\u001b[0mpublish_event\u001b[0m\u001b[0;34m(\u001b[0m\u001b[0mevent\u001b[0m\u001b[0;34m)\u001b[0m\u001b[0;34m\u001b[0m\u001b[0m\n\u001b[0m\u001b[1;32m     66\u001b[0m                 \u001b[0mevent_bus\u001b[0m\u001b[0;34m.\u001b[0m\u001b[0mpublish_event\u001b[0m\u001b[0;34m(\u001b[0m\u001b[0mPOST_BAR\u001b[0m\u001b[0;34m)\u001b[0m\u001b[0;34m\u001b[0m\u001b[0m\n",
      "\u001b[0;32m/usr/local/lib/python3.5/dist-packages/rqalpha/events.py\u001b[0m in \u001b[0;36mpublish_event\u001b[0;34m(self, event)\u001b[0m\n\u001b[1;32m     42\u001b[0m             \u001b[0;31m# 如果返回 True ，那么消息不再传递下去\u001b[0m\u001b[0;34m\u001b[0m\u001b[0;34m\u001b[0m\u001b[0m\n\u001b[0;32m---> 43\u001b[0;31m             \u001b[0;32mif\u001b[0m \u001b[0ml\u001b[0m\u001b[0;34m(\u001b[0m\u001b[0mevent\u001b[0m\u001b[0;34m)\u001b[0m\u001b[0;34m:\u001b[0m\u001b[0;34m\u001b[0m\u001b[0m\n\u001b[0m\u001b[1;32m     44\u001b[0m                 \u001b[0;32mbreak\u001b[0m\u001b[0;34m\u001b[0m\u001b[0m\n",
      "\u001b[0;32m/usr/local/lib/python3.5/dist-packages/rqalpha/utils/__init__.py\u001b[0m in \u001b[0;36mwrapper\u001b[0;34m(*args, **kwargs)\u001b[0m\n\u001b[1;32m    179\u001b[0m         \u001b[0;32mif\u001b[0m \u001b[0;32mnot\u001b[0m \u001b[0mEnvironment\u001b[0m\u001b[0;34m.\u001b[0m\u001b[0mget_instance\u001b[0m\u001b[0;34m(\u001b[0m\u001b[0;34m)\u001b[0m\u001b[0;34m.\u001b[0m\u001b[0mconfig\u001b[0m\u001b[0;34m.\u001b[0m\u001b[0mextra\u001b[0m\u001b[0;34m.\u001b[0m\u001b[0mis_hold\u001b[0m\u001b[0;34m:\u001b[0m\u001b[0;34m\u001b[0m\u001b[0m\n\u001b[0;32m--> 180\u001b[0;31m             \u001b[0;32mreturn\u001b[0m \u001b[0mfunc\u001b[0m\u001b[0;34m(\u001b[0m\u001b[0;34m*\u001b[0m\u001b[0margs\u001b[0m\u001b[0;34m,\u001b[0m \u001b[0;34m**\u001b[0m\u001b[0mkwargs\u001b[0m\u001b[0;34m)\u001b[0m\u001b[0;34m\u001b[0m\u001b[0m\n\u001b[0m\u001b[1;32m    181\u001b[0m         \u001b[0;32melse\u001b[0m\u001b[0;34m:\u001b[0m\u001b[0;34m\u001b[0m\u001b[0m\n",
      "\u001b[0;32m/usr/local/lib/python3.5/dist-packages/rqalpha/core/strategy.py\u001b[0m in \u001b[0;36mhandle_bar\u001b[0;34m(self, event)\u001b[0m\n\u001b[1;32m     83\u001b[0m             \u001b[0;32mwith\u001b[0m \u001b[0mModifyExceptionFromType\u001b[0m\u001b[0;34m(\u001b[0m\u001b[0mEXC_TYPE\u001b[0m\u001b[0;34m.\u001b[0m\u001b[0mUSER_EXC\u001b[0m\u001b[0;34m)\u001b[0m\u001b[0;34m:\u001b[0m\u001b[0;34m\u001b[0m\u001b[0m\n\u001b[0;32m---> 84\u001b[0;31m                 \u001b[0mself\u001b[0m\u001b[0;34m.\u001b[0m\u001b[0m_handle_bar\u001b[0m\u001b[0;34m(\u001b[0m\u001b[0mself\u001b[0m\u001b[0;34m.\u001b[0m\u001b[0m_user_context\u001b[0m\u001b[0;34m,\u001b[0m \u001b[0mbar_dict\u001b[0m\u001b[0;34m)\u001b[0m\u001b[0;34m\u001b[0m\u001b[0m\n\u001b[0m\u001b[1;32m     85\u001b[0m \u001b[0;34m\u001b[0m\u001b[0m\n",
      "\u001b[0;32m/usr/local/lib/python3.5/dist-packages/rqalpha/execution_context.py\u001b[0m in \u001b[0;36m__exit__\u001b[0;34m(self, exc_type, exc_val, exc_tb)\u001b[0m\n\u001b[1;32m     94\u001b[0m         \u001b[0muser_exc\u001b[0m \u001b[0;34m=\u001b[0m \u001b[0mcreate_custom_exception\u001b[0m\u001b[0;34m(\u001b[0m\u001b[0mexc_type\u001b[0m\u001b[0;34m,\u001b[0m \u001b[0mexc_val\u001b[0m\u001b[0;34m,\u001b[0m \u001b[0mexc_tb\u001b[0m\u001b[0;34m,\u001b[0m \u001b[0mstrategy_file\u001b[0m\u001b[0;34m)\u001b[0m\u001b[0;34m\u001b[0m\u001b[0m\n\u001b[0;32m---> 95\u001b[0;31m         \u001b[0;32mraise\u001b[0m \u001b[0muser_exc\u001b[0m\u001b[0;34m\u001b[0m\u001b[0m\n\u001b[0m\u001b[1;32m     96\u001b[0m \u001b[0;34m\u001b[0m\u001b[0m\n",
      "\u001b[0;31mCustomException\u001b[0m: 'float' object has no attribute 'type'",
      "\nDuring handling of the above exception, another exception occurred:\n",
      "\u001b[0;31mAttributeError\u001b[0m                            Traceback (most recent call last)",
      "\u001b[0;32m<ipython-input-4-f71d5584b6c6>\u001b[0m in \u001b[0;36m<module>\u001b[0;34m()\u001b[0m\n\u001b[1;32m      9\u001b[0m }\n\u001b[1;32m     10\u001b[0m \u001b[0;34m\u001b[0m\u001b[0m\n\u001b[0;32m---> 11\u001b[0;31m \u001b[0mresults\u001b[0m \u001b[0;34m=\u001b[0m \u001b[0mrun_func\u001b[0m\u001b[0;34m(\u001b[0m\u001b[0minit\u001b[0m\u001b[0;34m=\u001b[0m\u001b[0minit\u001b[0m\u001b[0;34m,\u001b[0m \u001b[0mhandle_bar\u001b[0m\u001b[0;34m=\u001b[0m\u001b[0mhandle_bar\u001b[0m\u001b[0;34m,\u001b[0m \u001b[0mconfig\u001b[0m\u001b[0;34m=\u001b[0m\u001b[0mconfig\u001b[0m\u001b[0;34m)\u001b[0m\u001b[0;34m\u001b[0m\u001b[0m\n\u001b[0m",
      "\u001b[0;32m/usr/local/lib/python3.5/dist-packages/rqalpha/__init__.py\u001b[0m in \u001b[0;36mrun_func\u001b[0;34m(**kwargs)\u001b[0m\n\u001b[1;32m    141\u001b[0m     \u001b[0mconfig\u001b[0m \u001b[0;34m=\u001b[0m \u001b[0mparse_config\u001b[0m\u001b[0;34m(\u001b[0m\u001b[0mconfig\u001b[0m\u001b[0;34m,\u001b[0m \u001b[0muser_funcs\u001b[0m\u001b[0;34m=\u001b[0m\u001b[0muser_funcs\u001b[0m\u001b[0;34m)\u001b[0m\u001b[0;34m\u001b[0m\u001b[0m\n\u001b[1;32m    142\u001b[0m     \u001b[0mclear_all_cached_functions\u001b[0m\u001b[0;34m(\u001b[0m\u001b[0;34m)\u001b[0m\u001b[0;34m\u001b[0m\u001b[0m\n\u001b[0;32m--> 143\u001b[0;31m     \u001b[0;32mreturn\u001b[0m \u001b[0mmain\u001b[0m\u001b[0;34m.\u001b[0m\u001b[0mrun\u001b[0m\u001b[0;34m(\u001b[0m\u001b[0mconfig\u001b[0m\u001b[0;34m,\u001b[0m \u001b[0muser_funcs\u001b[0m\u001b[0;34m=\u001b[0m\u001b[0muser_funcs\u001b[0m\u001b[0;34m)\u001b[0m\u001b[0;34m\u001b[0m\u001b[0m\n\u001b[0m\u001b[1;32m    144\u001b[0m \u001b[0;34m\u001b[0m\u001b[0m\n\u001b[1;32m    145\u001b[0m \u001b[0;34m\u001b[0m\u001b[0m\n",
      "\u001b[0;32m/usr/local/lib/python3.5/dist-packages/rqalpha/main.py\u001b[0m in \u001b[0;36mrun\u001b[0;34m(config, source_code, user_funcs)\u001b[0m\n\u001b[1;32m    298\u001b[0m             \u001b[0mpersist_helper\u001b[0m\u001b[0;34m.\u001b[0m\u001b[0mpersist\u001b[0m\u001b[0;34m(\u001b[0m\u001b[0;34m)\u001b[0m\u001b[0;34m\u001b[0m\u001b[0m\n\u001b[1;32m    299\u001b[0m \u001b[0;34m\u001b[0m\u001b[0m\n\u001b[0;32m--> 300\u001b[0;31m         \u001b[0mcode\u001b[0m \u001b[0;34m=\u001b[0m \u001b[0m_exception_handler\u001b[0m\u001b[0;34m(\u001b[0m\u001b[0me\u001b[0m\u001b[0;34m)\u001b[0m\u001b[0;34m\u001b[0m\u001b[0m\n\u001b[0m\u001b[1;32m    301\u001b[0m         \u001b[0mmod_handler\u001b[0m\u001b[0;34m.\u001b[0m\u001b[0mtear_down\u001b[0m\u001b[0;34m(\u001b[0m\u001b[0mcode\u001b[0m\u001b[0;34m,\u001b[0m \u001b[0me\u001b[0m\u001b[0;34m)\u001b[0m\u001b[0;34m\u001b[0m\u001b[0m\n\u001b[1;32m    302\u001b[0m     \u001b[0;32mexcept\u001b[0m \u001b[0mException\u001b[0m \u001b[0;32mas\u001b[0m \u001b[0me\u001b[0m\u001b[0;34m:\u001b[0m\u001b[0;34m\u001b[0m\u001b[0m\n",
      "\u001b[0;32m/usr/local/lib/python3.5/dist-packages/rqalpha/main.py\u001b[0m in \u001b[0;36m_exception_handler\u001b[0;34m(e)\u001b[0m\n\u001b[1;32m    316\u001b[0m \u001b[0;34m\u001b[0m\u001b[0m\n\u001b[1;32m    317\u001b[0m \u001b[0;32mdef\u001b[0m \u001b[0m_exception_handler\u001b[0m\u001b[0;34m(\u001b[0m\u001b[0me\u001b[0m\u001b[0;34m)\u001b[0m\u001b[0;34m:\u001b[0m\u001b[0;34m\u001b[0m\u001b[0m\n\u001b[0;32m--> 318\u001b[0;31m     \u001b[0mbetter_exceptions\u001b[0m\u001b[0;34m.\u001b[0m\u001b[0mexcepthook\u001b[0m\u001b[0;34m(\u001b[0m\u001b[0me\u001b[0m\u001b[0;34m.\u001b[0m\u001b[0merror\u001b[0m\u001b[0;34m.\u001b[0m\u001b[0mexc_type\u001b[0m\u001b[0;34m,\u001b[0m \u001b[0me\u001b[0m\u001b[0;34m.\u001b[0m\u001b[0merror\u001b[0m\u001b[0;34m.\u001b[0m\u001b[0mexc_val\u001b[0m\u001b[0;34m,\u001b[0m \u001b[0me\u001b[0m\u001b[0;34m.\u001b[0m\u001b[0merror\u001b[0m\u001b[0;34m.\u001b[0m\u001b[0mexc_tb\u001b[0m\u001b[0;34m)\u001b[0m\u001b[0;34m\u001b[0m\u001b[0m\n\u001b[0m\u001b[1;32m    319\u001b[0m     \u001b[0muser_system_log\u001b[0m\u001b[0;34m.\u001b[0m\u001b[0merror\u001b[0m\u001b[0;34m(\u001b[0m\u001b[0me\u001b[0m\u001b[0;34m.\u001b[0m\u001b[0merror\u001b[0m\u001b[0;34m)\u001b[0m\u001b[0;34m\u001b[0m\u001b[0m\n\u001b[1;32m    320\u001b[0m     \u001b[0;32mif\u001b[0m \u001b[0;32mnot\u001b[0m \u001b[0mis_user_exc\u001b[0m\u001b[0;34m(\u001b[0m\u001b[0me\u001b[0m\u001b[0;34m.\u001b[0m\u001b[0merror\u001b[0m\u001b[0;34m.\u001b[0m\u001b[0mexc_val\u001b[0m\u001b[0;34m)\u001b[0m\u001b[0;34m:\u001b[0m\u001b[0;34m\u001b[0m\u001b[0m\n",
      "\u001b[0;32m/usr/local/lib/python3.5/dist-packages/better_exceptions/__init__.py\u001b[0m in \u001b[0;36mexcepthook\u001b[0;34m(exc, value, tb)\u001b[0m\n\u001b[1;32m    342\u001b[0m \u001b[0;32mdef\u001b[0m \u001b[0mexcepthook\u001b[0m\u001b[0;34m(\u001b[0m\u001b[0mexc\u001b[0m\u001b[0;34m,\u001b[0m \u001b[0mvalue\u001b[0m\u001b[0;34m,\u001b[0m \u001b[0mtb\u001b[0m\u001b[0;34m)\u001b[0m\u001b[0;34m:\u001b[0m\u001b[0;34m\u001b[0m\u001b[0m\n\u001b[1;32m    343\u001b[0m     \u001b[0mformatted\u001b[0m \u001b[0;34m=\u001b[0m \u001b[0mformat_exception\u001b[0m\u001b[0;34m(\u001b[0m\u001b[0mexc\u001b[0m\u001b[0;34m,\u001b[0m \u001b[0mvalue\u001b[0m\u001b[0;34m,\u001b[0m \u001b[0mtb\u001b[0m\u001b[0;34m)\u001b[0m\u001b[0;34m\u001b[0m\u001b[0m\n\u001b[0;32m--> 344\u001b[0;31m     \u001b[0mwrite_stream\u001b[0m\u001b[0;34m(\u001b[0m\u001b[0mformatted\u001b[0m\u001b[0;34m)\u001b[0m\u001b[0;34m\u001b[0m\u001b[0m\n\u001b[0m\u001b[1;32m    345\u001b[0m \u001b[0;34m\u001b[0m\u001b[0m\n\u001b[1;32m    346\u001b[0m \u001b[0;34m\u001b[0m\u001b[0m\n",
      "\u001b[0;32m/usr/local/lib/python3.5/dist-packages/better_exceptions/__init__.py\u001b[0m in \u001b[0;36mwrite_stream\u001b[0;34m(data)\u001b[0m\n\u001b[1;32m    323\u001b[0m \u001b[0;34m\u001b[0m\u001b[0m\n\u001b[1;32m    324\u001b[0m     \u001b[0;32mif\u001b[0m \u001b[0mPY3\u001b[0m\u001b[0;34m:\u001b[0m\u001b[0;34m\u001b[0m\u001b[0m\n\u001b[0;32m--> 325\u001b[0;31m         \u001b[0mSTREAM\u001b[0m\u001b[0;34m.\u001b[0m\u001b[0mbuffer\u001b[0m\u001b[0;34m.\u001b[0m\u001b[0mwrite\u001b[0m\u001b[0;34m(\u001b[0m\u001b[0mdata\u001b[0m\u001b[0;34m)\u001b[0m\u001b[0;34m\u001b[0m\u001b[0m\n\u001b[0m\u001b[1;32m    326\u001b[0m     \u001b[0;32melse\u001b[0m\u001b[0;34m:\u001b[0m\u001b[0;34m\u001b[0m\u001b[0m\n\u001b[1;32m    327\u001b[0m         \u001b[0mSTREAM\u001b[0m\u001b[0;34m.\u001b[0m\u001b[0mwrite\u001b[0m\u001b[0;34m(\u001b[0m\u001b[0mdata\u001b[0m\u001b[0;34m)\u001b[0m\u001b[0;34m\u001b[0m\u001b[0m\n",
      "\u001b[0;31mAttributeError\u001b[0m: 'OutStream' object has no attribute 'buffer'"
     ]
    }
   ],
   "source": [
    "start_date = '2017-01-01'\n",
    "end_date = '2017-8-27'\n",
    "accounts = {'stock':1e5}\n",
    "\n",
    "config = {\n",
    "    'base':{'start_date':start_date, 'end_date':end_date, 'accounts':accounts},\n",
    "    'extra':{'log_level':'info'},\n",
    "    'mod':{'sys_analyser':{'enabled':True, 'plot':True}}\n",
    "}\n",
    "\n",
    "results = run_func(init=init, handle_bar=handle_bar, config=config)"
   ]
  },
  {
   "cell_type": "code",
   "execution_count": null,
   "metadata": {
    "collapsed": true
   },
   "outputs": [],
   "source": []
  }
 ],
 "metadata": {
  "kernelspec": {
   "display_name": "Python 3",
   "language": "python",
   "name": "python3"
  },
  "language_info": {
   "codemirror_mode": {
    "name": "ipython",
    "version": 3
   },
   "file_extension": ".py",
   "mimetype": "text/x-python",
   "name": "python",
   "nbconvert_exporter": "python",
   "pygments_lexer": "ipython3",
   "version": "3.5.2"
  }
 },
 "nbformat": 4,
 "nbformat_minor": 2
}
